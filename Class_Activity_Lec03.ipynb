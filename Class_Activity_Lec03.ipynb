{
  "nbformat": 4,
  "nbformat_minor": 0,
  "metadata": {
    "colab": {
      "name": "Class_Activity_Lec03.ipynb",
      "provenance": [],
      "collapsed_sections": [],
      "include_colab_link": true
    },
    "kernelspec": {
      "name": "python3",
      "display_name": "Python 3"
    }
  },
  "cells": [
    {
      "cell_type": "markdown",
      "metadata": {
        "id": "view-in-github",
        "colab_type": "text"
      },
      "source": [
        "<a href=\"https://colab.research.google.com/github/salimlaaguel/DataVizFall2020_Colab/blob/master/Class_Activity_Lec03.ipynb\" target=\"_parent\"><img src=\"https://colab.research.google.com/assets/colab-badge.svg\" alt=\"Open In Colab\"/></a>"
      ]
    },
    {
      "cell_type": "markdown",
      "metadata": {
        "id": "LTNxcsyocbx8",
        "colab_type": "text"
      },
      "source": [
        "##Salim Laaguel"
      ]
    },
    {
      "cell_type": "markdown",
      "metadata": {
        "id": "Byjnt3sW70g2",
        "colab_type": "text"
      },
      "source": [
        "# Visualize New York times database for COVID-19\n",
        "## Case study Bristol and Suffolk, MA"
      ]
    },
    {
      "cell_type": "markdown",
      "metadata": {
        "id": "-yRKZ88f8Eit",
        "colab_type": "text"
      },
      "source": [
        "## Loading US County Level Data"
      ]
    },
    {
      "cell_type": "code",
      "metadata": {
        "id": "FmC4_RXYRmTQ",
        "colab_type": "code",
        "colab": {}
      },
      "source": [
        "import pandas as pd\n",
        "import matplotlib.pyplot as plt"
      ],
      "execution_count": 3,
      "outputs": []
    },
    {
      "cell_type": "code",
      "metadata": {
        "id": "uMLnoCtYTr4t",
        "colab_type": "code",
        "colab": {}
      },
      "source": [
        ""
      ],
      "execution_count": null,
      "outputs": []
    },
    {
      "cell_type": "code",
      "metadata": {
        "id": "Zx2TID5Q79vH",
        "colab_type": "code",
        "colab": {}
      },
      "source": [
        "# https://github.com/nytimes/covid-19-data repository location\n",
        "db = \"https://raw.githubusercontent.com/nytimes/covid-19-data/master/us-counties.csv\"\n",
        "## loading data into dataframe\n",
        "df = pd.read_csv(db)"
      ],
      "execution_count": 7,
      "outputs": []
    },
    {
      "cell_type": "markdown",
      "metadata": {
        "id": "Qmo3W6WqZc-o",
        "colab_type": "text"
      },
      "source": [
        "# Explore data"
      ]
    },
    {
      "cell_type": "code",
      "metadata": {
        "id": "1LFMv0CP7vf_",
        "colab_type": "code",
        "colab": {
          "base_uri": "https://localhost:8080/",
          "height": 204
        },
        "outputId": "d36efbc3-4c40-4982-ee6c-7e59836b0882"
      },
      "source": [
        "df.head(5)"
      ],
      "execution_count": 8,
      "outputs": [
        {
          "output_type": "execute_result",
          "data": {
            "text/html": [
              "<div>\n",
              "<style scoped>\n",
              "    .dataframe tbody tr th:only-of-type {\n",
              "        vertical-align: middle;\n",
              "    }\n",
              "\n",
              "    .dataframe tbody tr th {\n",
              "        vertical-align: top;\n",
              "    }\n",
              "\n",
              "    .dataframe thead th {\n",
              "        text-align: right;\n",
              "    }\n",
              "</style>\n",
              "<table border=\"1\" class=\"dataframe\">\n",
              "  <thead>\n",
              "    <tr style=\"text-align: right;\">\n",
              "      <th></th>\n",
              "      <th>date</th>\n",
              "      <th>county</th>\n",
              "      <th>state</th>\n",
              "      <th>fips</th>\n",
              "      <th>cases</th>\n",
              "      <th>deaths</th>\n",
              "    </tr>\n",
              "  </thead>\n",
              "  <tbody>\n",
              "    <tr>\n",
              "      <th>0</th>\n",
              "      <td>2020-01-21</td>\n",
              "      <td>Snohomish</td>\n",
              "      <td>Washington</td>\n",
              "      <td>53061.0</td>\n",
              "      <td>1</td>\n",
              "      <td>0</td>\n",
              "    </tr>\n",
              "    <tr>\n",
              "      <th>1</th>\n",
              "      <td>2020-01-22</td>\n",
              "      <td>Snohomish</td>\n",
              "      <td>Washington</td>\n",
              "      <td>53061.0</td>\n",
              "      <td>1</td>\n",
              "      <td>0</td>\n",
              "    </tr>\n",
              "    <tr>\n",
              "      <th>2</th>\n",
              "      <td>2020-01-23</td>\n",
              "      <td>Snohomish</td>\n",
              "      <td>Washington</td>\n",
              "      <td>53061.0</td>\n",
              "      <td>1</td>\n",
              "      <td>0</td>\n",
              "    </tr>\n",
              "    <tr>\n",
              "      <th>3</th>\n",
              "      <td>2020-01-24</td>\n",
              "      <td>Cook</td>\n",
              "      <td>Illinois</td>\n",
              "      <td>17031.0</td>\n",
              "      <td>1</td>\n",
              "      <td>0</td>\n",
              "    </tr>\n",
              "    <tr>\n",
              "      <th>4</th>\n",
              "      <td>2020-01-24</td>\n",
              "      <td>Snohomish</td>\n",
              "      <td>Washington</td>\n",
              "      <td>53061.0</td>\n",
              "      <td>1</td>\n",
              "      <td>0</td>\n",
              "    </tr>\n",
              "  </tbody>\n",
              "</table>\n",
              "</div>"
            ],
            "text/plain": [
              "         date     county       state     fips  cases  deaths\n",
              "0  2020-01-21  Snohomish  Washington  53061.0      1       0\n",
              "1  2020-01-22  Snohomish  Washington  53061.0      1       0\n",
              "2  2020-01-23  Snohomish  Washington  53061.0      1       0\n",
              "3  2020-01-24       Cook    Illinois  17031.0      1       0\n",
              "4  2020-01-24  Snohomish  Washington  53061.0      1       0"
            ]
          },
          "metadata": {
            "tags": []
          },
          "execution_count": 8
        }
      ]
    },
    {
      "cell_type": "code",
      "metadata": {
        "id": "QpoWNDUxZgSJ",
        "colab_type": "code",
        "colab": {
          "base_uri": "https://localhost:8080/",
          "height": 136
        },
        "outputId": "49b09efe-c0da-4421-fb28-eeb84ef6fa6d"
      },
      "source": [
        "#- ADD CODE HERE (1)\n",
        "dfunique = df.nunique()\n",
        "print(dfunique)"
      ],
      "execution_count": 10,
      "outputs": [
        {
          "output_type": "stream",
          "text": [
            "date        234\n",
            "county     1923\n",
            "state        55\n",
            "fips       3205\n",
            "cases     16026\n",
            "deaths     2381\n",
            "dtype: int64\n"
          ],
          "name": "stdout"
        }
      ]
    },
    {
      "cell_type": "code",
      "metadata": {
        "id": "n6KHjGs7RwaS",
        "colab_type": "code",
        "colab": {
          "base_uri": "https://localhost:8080/",
          "height": 51
        },
        "outputId": "a879845c-98f0-4ed9-c2b0-cd5946ba0275"
      },
      "source": [
        "# let us get fips for 2 counties  (Bristol and Suffolk, MA)\n",
        "## fips stands for : Federal Information Processing Standards\n",
        "# ADD CODE HERE (2)\n",
        "Bristol_fips = df.loc[df['county'] == 'Bristol', 'fips'].iloc[0]\n",
        "Suffolk_fips = df.loc[df['county'] == 'Suffolk', 'fips'].iloc[0]\n",
        "\n",
        "print('Bristol_fips = ', Bristol_fips)\n",
        "print('Suffolk_fips = ', Suffolk_fips)\n"
      ],
      "execution_count": 20,
      "outputs": [
        {
          "output_type": "stream",
          "text": [
            "Bristol_fips =  25005.0\n",
            "Suffolk_fips =  25025.0\n"
          ],
          "name": "stdout"
        }
      ]
    },
    {
      "cell_type": "code",
      "metadata": {
        "id": "xYbzk8vCR8GE",
        "colab_type": "code",
        "colab": {
          "base_uri": "https://localhost:8080/",
          "height": 235
        },
        "outputId": "509a3507-bdfe-4317-d120-b18c2443b17e"
      },
      "source": [
        "#ADD CODE HERE - (3)\n",
        "def get_county_stat(df, fips):\n",
        "  result = df[df['fips']==fips][['date','county','cases','deaths']].copy()\n",
        "  result.set_index('date', inplace=True)\n",
        "  result.index = pd.to_datetime(result.index)\n",
        "  return result\n",
        "\n",
        "get_county_stat(df,Bristol_fips).head()"
      ],
      "execution_count": 21,
      "outputs": [
        {
          "output_type": "execute_result",
          "data": {
            "text/html": [
              "<div>\n",
              "<style scoped>\n",
              "    .dataframe tbody tr th:only-of-type {\n",
              "        vertical-align: middle;\n",
              "    }\n",
              "\n",
              "    .dataframe tbody tr th {\n",
              "        vertical-align: top;\n",
              "    }\n",
              "\n",
              "    .dataframe thead th {\n",
              "        text-align: right;\n",
              "    }\n",
              "</style>\n",
              "<table border=\"1\" class=\"dataframe\">\n",
              "  <thead>\n",
              "    <tr style=\"text-align: right;\">\n",
              "      <th></th>\n",
              "      <th>county</th>\n",
              "      <th>cases</th>\n",
              "      <th>deaths</th>\n",
              "    </tr>\n",
              "    <tr>\n",
              "      <th>date</th>\n",
              "      <th></th>\n",
              "      <th></th>\n",
              "      <th></th>\n",
              "    </tr>\n",
              "  </thead>\n",
              "  <tbody>\n",
              "    <tr>\n",
              "      <th>2020-03-14</th>\n",
              "      <td>Bristol</td>\n",
              "      <td>1</td>\n",
              "      <td>0</td>\n",
              "    </tr>\n",
              "    <tr>\n",
              "      <th>2020-03-15</th>\n",
              "      <td>Bristol</td>\n",
              "      <td>1</td>\n",
              "      <td>0</td>\n",
              "    </tr>\n",
              "    <tr>\n",
              "      <th>2020-03-16</th>\n",
              "      <td>Bristol</td>\n",
              "      <td>2</td>\n",
              "      <td>0</td>\n",
              "    </tr>\n",
              "    <tr>\n",
              "      <th>2020-03-17</th>\n",
              "      <td>Bristol</td>\n",
              "      <td>5</td>\n",
              "      <td>0</td>\n",
              "    </tr>\n",
              "    <tr>\n",
              "      <th>2020-03-18</th>\n",
              "      <td>Bristol</td>\n",
              "      <td>5</td>\n",
              "      <td>0</td>\n",
              "    </tr>\n",
              "  </tbody>\n",
              "</table>\n",
              "</div>"
            ],
            "text/plain": [
              "             county  cases  deaths\n",
              "date                              \n",
              "2020-03-14  Bristol      1       0\n",
              "2020-03-15  Bristol      1       0\n",
              "2020-03-16  Bristol      2       0\n",
              "2020-03-17  Bristol      5       0\n",
              "2020-03-18  Bristol      5       0"
            ]
          },
          "metadata": {
            "tags": []
          },
          "execution_count": 21
        }
      ]
    },
    {
      "cell_type": "markdown",
      "metadata": {
        "id": "ZdvAU6NsXmXZ",
        "colab_type": "text"
      },
      "source": [
        "## Explore data type"
      ]
    },
    {
      "cell_type": "code",
      "metadata": {
        "id": "SqrW8_oTXlxH",
        "colab_type": "code",
        "colab": {}
      },
      "source": [
        "df_Bristol = get_county_stat(df,25005)\n",
        "df_Suffolk = get_county_stat(df,25025)"
      ],
      "execution_count": 22,
      "outputs": []
    },
    {
      "cell_type": "code",
      "metadata": {
        "id": "pvwkK_bxZvA2",
        "colab_type": "code",
        "colab": {
          "base_uri": "https://localhost:8080/",
          "height": 407
        },
        "outputId": "bcf0240b-74a9-49ed-e94e-49deaf851488"
      },
      "source": [
        "#ADD CODE HERE - (4)\n",
        "f,ax = plt.subplots(1,2,figsize=(18,6))\n",
        "\n",
        "ax[0].plot(df_Bristol.index,df_Bristol.cases, '-.', color='lightblue', label='Bristol cases')\n",
        "ax[0].plot(df_Bristol.index,df_Bristol.deaths, '-.', color='orange', label='Bristol deaths')\n",
        "\n",
        "ax[0].plot(df_Suffolk.index,df_Suffolk.cases, '-.', color='darkblue', label='Suffolk cases')\n",
        "ax[0].plot(df_Suffolk.index,df_Suffolk.deaths, '-.', color='red', label='Suffolk deaths')\n",
        "\n",
        "width = 0.5\n",
        "past = -90\n",
        "p1 = ax[1].bar(df_Bristol.index[past:], df_Bristol.deaths[past:], width, label='Bristol')\n",
        "p2 = ax[1].bar(df_Suffolk.index[past:], df_Suffolk.deaths[past:], width, bottom=df_Bristol.deaths[past:], label='Suffolk')\n",
        "ax[0].set_title('Bristol vs Suffolk')\n",
        "ax[1].set_title('Deaths Comparison')\n",
        "ax[0].legend()\n",
        "ax[1].legend()"
      ],
      "execution_count": 24,
      "outputs": [
        {
          "output_type": "execute_result",
          "data": {
            "text/plain": [
              "<matplotlib.legend.Legend at 0x7f0362b8db00>"
            ]
          },
          "metadata": {
            "tags": []
          },
          "execution_count": 24
        },
        {
          "output_type": "display_data",
          "data": {
            "image/png": "[encoded data removed]",
            "text/plain": [
              "<Figure size 1296x432 with 2 Axes>"
            ]
          },
          "metadata": {
            "tags": [],
            "needs_background": "light"
          }
        }
      ]
    },
    {
      "cell_type": "code",
      "metadata": {
        "id": "lYE52OMEf5-r",
        "colab_type": "code",
        "colab": {}
      },
      "source": [
        ""
      ],
      "execution_count": null,
      "outputs": []
    },
    {
      "cell_type": "markdown",
      "metadata": {
        "id": "3Ir7AQGfSrl7",
        "colab_type": "text"
      },
      "source": [
        "## Top 10 counties by number of cases and deaths \n",
        "\n",
        "\n",
        "\n",
        "```\n",
        "# This is formatted as code\n",
        "```\n",
        "\n",
        "\n",
        "\n"
      ]
    },
    {
      "cell_type": "markdown",
      "metadata": {
        "id": "aHvTcmdfgy38",
        "colab_type": "text"
      },
      "source": [
        "## Death rate Per FIPS "
      ]
    },
    {
      "cell_type": "code",
      "metadata": {
        "id": "9fNijuO8R9Hx",
        "colab_type": "code",
        "colab": {}
      },
      "source": [
        ""
      ],
      "execution_count": null,
      "outputs": []
    },
    {
      "cell_type": "code",
      "metadata": {
        "id": "1lJmC-FEhhY-",
        "colab_type": "code",
        "colab": {}
      },
      "source": [
        ""
      ],
      "execution_count": null,
      "outputs": []
    },
    {
      "cell_type": "markdown",
      "metadata": {
        "id": "FqTGKtk5hQ-I",
        "colab_type": "text"
      },
      "source": [
        "## <font color = red> Bonus Point</font>\n",
        "\n",
        "### A function that makes \"Folium Choropleth Map\" for Weekly Cases, Weekly Deaths and Weekly Mortality Rate </font>\n",
        "\n",
        "ALL COUNTIES\n",
        "\n",
        "<br>\n",
        "\n",
        "### def Folium_Choropleth(type = 'cases',date=''):\n",
        "\n",
        "<br>\n",
        "\n",
        "## Due for Bonus point : Friday (09/11/2020 11:59pm)"
      ]
    },
    {
      "cell_type": "code",
      "metadata": {
        "id": "Qi9EZlbmhPh2",
        "colab_type": "code",
        "colab": {}
      },
      "source": [
        "def Folium_Choropleth(type ,date):\n",
        "  weekdays=[0,1,2,3,4,5,6]\n",
        "  for i in weekdays:\n",
        "    date = \n",
        "\n",
        "Folium_Choropleth('cases', '2020-01-21')"
      ],
      "execution_count": null,
      "outputs": []
    },
    {
      "cell_type": "code",
      "metadata": {
        "id": "QM_OR4VxSqEN",
        "colab_type": "code",
        "colab": {}
      },
      "source": [
        ""
      ],
      "execution_count": null,
      "outputs": []
    },
    {
      "cell_type": "code",
      "metadata": {
        "id": "296nY_KHhOc0",
        "colab_type": "code",
        "colab": {}
      },
      "source": [
        ""
      ],
      "execution_count": null,
      "outputs": []
    }
  ]
}